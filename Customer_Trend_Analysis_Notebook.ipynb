{
  "cells": [
    {
      "cell_type": "markdown",
      "metadata": {},
      "source": [
        "# \ud83d\udcc8 Customer Trend Analysis & Engagement Modeling\n",
        "This notebook walks through customer segmentation, cohort analysis, and engagement KPI calculations using mock customer event data."
      ]
    },
    {
      "cell_type": "code",
      "execution_count": null,
      "metadata": {},
      "outputs": [],
      "source": [
        "import pandas as pd\n",
        "import matplotlib.pyplot as plt\n",
        "import seaborn as sns\n",
        "\n",
        "# Load mock data\n",
        "df = pd.DataFrame({\n",
        "    'customer_id': range(1, 11),\n",
        "    'signup_date': pd.date_range(start='2023-01-01', periods=10, freq='M'),\n",
        "    'last_active_date': pd.date_range(start='2023-03-01', periods=10, freq='M'),\n",
        "    'purchase_count': [0, 2, 5, 1, 3, 4, 0, 2, 1, 6],\n",
        "    'emails_sent': [10]*10,\n",
        "    'emails_opened': [3, 4, 8, 2, 5, 6, 0, 3, 2, 9],\n",
        "    'emails_clicked': [1, 2, 5, 1, 3, 4, 0, 1, 1, 6]\n",
        "})\n",
        "df['signup_month'] = df['signup_date'].dt.to_period('M')\n",
        "df['activity_month'] = df['last_active_date'].dt.to_period('M')\n",
        "df.head()"
      ]
    },
    {
      "cell_type": "code",
      "execution_count": null,
      "metadata": {},
      "outputs": [],
      "source": [
        "# Customer Segmentation\n",
        "bins = [-1, 0, 3, float('inf')]\n",
        "labels = ['Inactive', 'New', 'Loyal']\n",
        "df['segment'] = pd.cut(df['purchase_count'], bins=bins, labels=labels)\n",
        "df[['customer_id', 'purchase_count', 'segment']]"
      ]
    },
    {
      "cell_type": "code",
      "execution_count": null,
      "metadata": {},
      "outputs": [],
      "source": [
        "# Engagement KPI Calculation\n",
        "df['open_rate'] = df['emails_opened'] / df['emails_sent']\n",
        "df['click_rate'] = df['emails_clicked'] / df['emails_sent']\n",
        "df[['customer_id', 'open_rate', 'click_rate']]"
      ]
    },
    {
      "cell_type": "code",
      "execution_count": null,
      "metadata": {},
      "outputs": [],
      "source": [
        "# Visualize Click Rate by Segment\n",
        "sns.barplot(data=df, x='segment', y='click_rate')\n",
        "plt.title('Click Rate by Customer Segment')\n",
        "plt.ylabel('Click Through Rate')\n",
        "plt.xlabel('Segment')\n",
        "plt.tight_layout()\n",
        "plt.show()"
      ]
    }
  ],
  "metadata": {
    "kernelspec": {
      "display_name": "Python 3",
      "language": "python",
      "name": "python3"
    },
    "language_info": {
      "name": "python",
      "version": "3.8"
    }
  },
  "nbformat": 4,
  "nbformat_minor": 5
}